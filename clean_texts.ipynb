{
 "cells": [
  {
   "cell_type": "code",
   "execution_count": 4,
   "metadata": {},
   "outputs": [
    {
     "data": {
      "text/plain": [
       "('Raw', \"John's Gospel - Cleaned\")"
      ]
     },
     "execution_count": 4,
     "metadata": {},
     "output_type": "execute_result"
    }
   ],
   "source": [
    "import os\n",
    "\n",
    "in_dir = 'Raw' \n",
    "out_dir = \"John's Gospel - Cleaned\"\n",
    "\n",
    "in_dir, out_dir"
   ]
  },
  {
   "cell_type": "code",
   "execution_count": 5,
   "metadata": {},
   "outputs": [
    {
     "data": {
      "text/plain": [
       "['https://www.biblegateway.com/passage/?search=John%201&version=NIV',\n",
       " 'https://www.biblegateway.com/passage/?search=John%202&version=NIV',\n",
       " 'https://www.biblegateway.com/passage/?search=John%203&version=NIV',\n",
       " 'https://www.biblegateway.com/passage/?search=John%204&version=NIV',\n",
       " 'https://www.biblegateway.com/passage/?search=John%205&version=NIV',\n",
       " 'https://www.biblegateway.com/passage/?search=John%206&version=NIV',\n",
       " 'https://www.biblegateway.com/passage/?search=John%207&version=NIV',\n",
       " 'https://www.biblegateway.com/passage/?search=John%208&version=NIV',\n",
       " 'https://www.biblegateway.com/passage/?search=John%209&version=NIV',\n",
       " 'https://www.biblegateway.com/passage/?search=John%2010&version=NIV',\n",
       " 'https://www.biblegateway.com/passage/?search=John%2011&version=NIV',\n",
       " 'https://www.biblegateway.com/passage/?search=John%2012&version=NIV',\n",
       " 'https://www.biblegateway.com/passage/?search=John%2013&version=NIV',\n",
       " 'https://www.biblegateway.com/passage/?search=John%2014&version=NIV',\n",
       " 'https://www.biblegateway.com/passage/?search=John%2015&version=NIV',\n",
       " 'https://www.biblegateway.com/passage/?search=John%2016&version=NIV',\n",
       " 'https://www.biblegateway.com/passage/?search=John%2017&version=NIV',\n",
       " 'https://www.biblegateway.com/passage/?search=John%2018&version=NIV',\n",
       " 'https://www.biblegateway.com/passage/?search=John%2019&version=NIV',\n",
       " 'https://www.biblegateway.com/passage/?search=John%2020&version=NIV',\n",
       " 'https://www.biblegateway.com/passage/?search=John%2021&version=NIV']"
      ]
     },
     "execution_count": 5,
     "metadata": {},
     "output_type": "execute_result"
    }
   ],
   "source": [
    "urls = []\n",
    "\n",
    "for i in range(21):\n",
    "    urls.append(f'https://www.biblegateway.com/passage/?search=John%20{i+1}&version=NIV')\n",
    "\n",
    "urls"
   ]
  },
  {
   "cell_type": "code",
   "execution_count": 6,
   "metadata": {},
   "outputs": [],
   "source": [
    "with open('urls.txt', 'w') as f:\n",
    "    for url in urls:\n",
    "        f.write(url + '\\n')"
   ]
  },
  {
   "cell_type": "code",
   "execution_count": 7,
   "metadata": {},
   "outputs": [
    {
     "name": "stdout",
     "output_type": "stream",
     "text": [
      "['Raw', 'urls.txt', 'myspider', 'myspider.py', 'John 21 NIV - Jesus and the Miraculous Catch of Fish - Bible Gateway_files', 'Raw2', 'Cleaned2', \"John's Gospel - Cleaned\", 'clean_texts.ipynb', '.git', '.gitignore', 'LICENSE', 'README.md']\n"
     ]
    },
    {
     "data": {
      "text/plain": [
       "['john1.txt',\n",
       " 'john2.txt',\n",
       " 'john3.txt',\n",
       " 'john4.txt',\n",
       " 'john5.txt',\n",
       " 'john6.txt',\n",
       " 'john7.txt',\n",
       " 'john8.txt',\n",
       " 'john9.txt',\n",
       " 'john10.txt',\n",
       " 'john11.txt',\n",
       " 'john12.txt',\n",
       " 'john13.txt',\n",
       " 'john14.txt',\n",
       " 'john15.txt',\n",
       " 'john16.txt',\n",
       " 'john17.txt',\n",
       " 'john18.txt',\n",
       " 'john19.txt',\n",
       " 'john20.txt',\n",
       " 'john21.txt']"
      ]
     },
     "execution_count": 7,
     "metadata": {},
     "output_type": "execute_result"
    }
   ],
   "source": [
    "print(os.listdir('.'))\n",
    "os.listdir(in_dir)"
   ]
  },
  {
   "cell_type": "code",
   "execution_count": 8,
   "metadata": {},
   "outputs": [
    {
     "name": "stdout",
     "output_type": "stream",
     "text": [
      "Raw\\john1.txt\n",
      "Raw\\john2.txt\n",
      "Raw\\john3.txt\n",
      "Raw\\john4.txt\n",
      "Raw\\john5.txt\n",
      "Raw\\john6.txt\n",
      "Raw\\john7.txt\n",
      "Raw\\john8.txt\n",
      "Raw\\john9.txt\n",
      "Raw\\john10.txt\n",
      "Raw\\john11.txt\n",
      "Raw\\john12.txt\n",
      "Raw\\john13.txt\n",
      "Raw\\john14.txt\n",
      "Raw\\john15.txt\n",
      "Raw\\john16.txt\n",
      "Raw\\john17.txt\n",
      "Raw\\john18.txt\n",
      "Raw\\john19.txt\n",
      "Raw\\john20.txt\n",
      "Raw\\john21.txt\n"
     ]
    }
   ],
   "source": [
    "mapping = {'—':'-', \"’\":\"'\", \"''\":\"'\", \"‘\":\"'\", '”':'\"', '“':'\"'}\n",
    "\n",
    "for filename in os.listdir(in_dir):\n",
    "    in_filepath = os.path.join(in_dir, filename)\n",
    "    print(in_filepath)\n",
    "    out_filepath = os.path.join(out_dir, filename)\n",
    "    \n",
    "    with open(in_filepath) as f:\n",
    "        filetext = f.read()\n",
    "\n",
    "    for old, new in mapping.items():\n",
    "        filetext = filetext.replace(old, new)\n",
    "\n",
    "    with open(out_filepath, 'w') as f: \n",
    "        f.write(filetext)"
   ]
  }
 ],
 "metadata": {
  "kernelspec": {
   "display_name": "base",
   "language": "python",
   "name": "python3"
  },
  "language_info": {
   "codemirror_mode": {
    "name": "ipython",
    "version": 3
   },
   "file_extension": ".py",
   "mimetype": "text/x-python",
   "name": "python",
   "nbconvert_exporter": "python",
   "pygments_lexer": "ipython3",
   "version": "3.11.7"
  }
 },
 "nbformat": 4,
 "nbformat_minor": 2
}
